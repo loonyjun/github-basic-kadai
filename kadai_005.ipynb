{
  "nbformat": 4,
  "nbformat_minor": 0,
  "metadata": {
    "colab": {
      "provenance": [],
      "authorship_tag": "ABX9TyNHq0tsa2bz+qbijVLKp5H7",
      "include_colab_link": true
    },
    "kernelspec": {
      "name": "python3",
      "display_name": "Python 3"
    },
    "language_info": {
      "name": "python"
    }
  },
  "cells": [
    {
      "cell_type": "markdown",
      "metadata": {
        "id": "view-in-github",
        "colab_type": "text"
      },
      "source": [
        "<a href=\"https://colab.research.google.com/github/loonyjun/github-basic-kadai/blob/main/kadai_005.ipynb\" target=\"_parent\"><img src=\"https://colab.research.google.com/assets/colab-badge.svg\" alt=\"Open In Colab\"/></a>"
      ]
    },
    {
      "cell_type": "code",
      "execution_count": 1,
      "metadata": {
        "id": "p4n2QkxR3AxU"
      },
      "outputs": [],
      "source": [
        "#下記の台形の面積の計算結果を出力するプログラムを記述してください。\n",
        "#出力結果は「◯◯cm²」となるように単位をつけてください。\n",
        "\n",
        "#上辺：10cm\n",
        "#下辺：20cm\n",
        "#高さ：5cm\n",
        "\n",
        "#公式：台形の面積 =（上辺＋下辺）× 高さ ÷ 2\n",
        "#台形の面積の計算結果は、変数に代入してプログラム内で使用してください。"
      ]
    },
    {
      "cell_type": "code",
      "source": [
        "upp_side = 10\n",
        "low_side = 20\n",
        "height = 5\n",
        "\n",
        "area = (upp_side + low_side) * height / 2\n",
        "\n",
        "# 結果の出力\n",
        "print( area , \"cm²\")\n"
      ],
      "metadata": {
        "colab": {
          "base_uri": "https://localhost:8080/"
        },
        "id": "GDwZP-Zt3GLc",
        "outputId": "5ef9f513-9f8a-4f57-8c47-16c05f6eb65a"
      },
      "execution_count": 7,
      "outputs": [
        {
          "output_type": "stream",
          "name": "stdout",
          "text": [
            "75.0 cm²\n"
          ]
        }
      ]
    },
    {
      "cell_type": "code",
      "source": [],
      "metadata": {
        "id": "YgbRqW6q3763"
      },
      "execution_count": null,
      "outputs": []
    }
  ]
}